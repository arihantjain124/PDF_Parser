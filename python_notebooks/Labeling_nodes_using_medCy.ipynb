{
  "nbformat": 4,
  "nbformat_minor": 0,
  "metadata": {
    "colab": {
      "name": "Labeling_nodes_using_medCy.ipynb",
      "provenance": []
    },
    "kernelspec": {
      "name": "python3",
      "display_name": "Python 3"
    },
    "language_info": {
      "name": "python"
    }
  },
  "cells": [
    {
      "cell_type": "markdown",
      "source": [
        "#**To Label nodes(using medCy) in Parser Output Json-LD**\n",
        "###**Input:**\n",
        "1.   Parser Output JSLD (Footnotes referenced) *{Example: NCCN_NSCLGraph_21_23.json}*\n",
        "\n",
        "\n",
        "###**Output:**\n",
        "1.   MedCy label JSON file (containing nodeid and label) *{Example: page21_23_medaCy_only_labeled_nodes.json}*"
      ],
      "metadata": {
        "id": "Z-O6oi-y8pdl"
      }
    },
    {
      "cell_type": "code",
      "execution_count": 10,
      "metadata": {
        "id": "9mr0vOJU8ei1"
      },
      "outputs": [],
      "source": [
        "pip install git+https://github.com/NLPatVCU/medaCy.git &> /dev/null"
      ]
    },
    {
      "cell_type": "code",
      "source": [
        "pip install git+https://github.com/NLPatVCU/medaCy_model_clinical_notes.git &> /dev/null"
      ],
      "metadata": {
        "id": "ClO3Dxob8-Ro"
      },
      "execution_count": 11,
      "outputs": []
    },
    {
      "cell_type": "code",
      "source": [
        "import json\n",
        "import medacy_model_clinical_notes\n",
        "import re"
      ],
      "metadata": {
        "id": "UbZtFVoK9BJl"
      },
      "execution_count": 12,
      "outputs": []
    },
    {
      "cell_type": "code",
      "source": [
        "## READING JSON FILES (Parser Output of footnotes marked automatically)\n",
        "file = open('NCCN_NSCLGraph_21_23.json')\n",
        "F_marked_jsld_21_23 = json.load(file)\n",
        "model = medacy_model_clinical_notes.load()"
      ],
      "metadata": {
        "id": "jOBsO-ww9kQd"
      },
      "execution_count": 13,
      "outputs": []
    },
    {
      "cell_type": "code",
      "source": [
        "#IDENTIFYING MEDACY LABELS FOR NODES AND CREATING JSON OUTPUT\n",
        "nodeid_medCylabel_dic ={}\n",
        "for node in F_marked_jsld_21_23['@graph']:\n",
        "  node_id = str(node['@id'])\n",
        "  \n",
        "  if node['@type'] != \"nccn:Footnote\":\n",
        "    old_str =  node['nccn:content']\n",
        "    F_removed_str = re.sub('\\{[^\\{]+\\}', '', old_str)\n",
        "    annotation = model.predict(F_removed_str)\n",
        "    \n",
        "    \n",
        "    for a in annotation.annotations:\n",
        "      if a.tag == \"Drug\":\n",
        "    \n",
        "        nodeid_medCylabel_dic[node_id]=\"TREATMENT\"\n",
        "        break\n",
        "    \n",
        "    \n",
        "#print(nodeid_medCylabel_dic)"
      ],
      "metadata": {
        "id": "qyq9mHRe9oXI"
      },
      "execution_count": 14,
      "outputs": []
    },
    {
      "cell_type": "code",
      "source": [
        "from google.colab import files\n",
        "\n",
        "file_name = \"page21_23_medaCy_only_labeled_nodes.json\"\n",
        "with open(file_name, \"w\") as fid: \n",
        "     json.dump(nodeid_medCylabel_dic, fid)\n",
        "#files.download('page21_23_medaCy_only_labeled_nodes.json')     "
      ],
      "metadata": {
        "id": "7uhDpswM-EaR"
      },
      "execution_count": 15,
      "outputs": []
    }
  ]
}