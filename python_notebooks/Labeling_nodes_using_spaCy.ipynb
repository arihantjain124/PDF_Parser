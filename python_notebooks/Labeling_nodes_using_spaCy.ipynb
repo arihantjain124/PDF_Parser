{
  "nbformat": 4,
  "nbformat_minor": 0,
  "metadata": {
    "colab": {
      "name": "Labeling_nodes_using_spaCy.ipynb",
      "provenance": []
    },
    "kernelspec": {
      "name": "python3",
      "display_name": "Python 3"
    },
    "language_info": {
      "name": "python"
    }
  },
  "cells": [
    {
      "cell_type": "markdown",
      "source": [
        "#**To Label nodes in Parser Output Json-LD**\n",
        "###**Input:**\n",
        "1.   Parser Output JSLD (Footnotes referenced) *{Example: NCCN_NSCLGraph_21_23.json}*\n",
        "2.   MedCy label JSON file (containing nodeid and label) *{Example: page21_23_medaCy_only_labeled_nodes.json}*\n",
        "\n",
        "###**Output:**\n",
        "1. JSON LD File same as input containing the labels from spaCy and medCy *{Example: NCCN_NSCLGraph_21_23_labeled.json}*"
      ],
      "metadata": {
        "id": "gq0s7IA56EL5"
      }
    },
    {
      "cell_type": "code",
      "execution_count": null,
      "metadata": {
        "id": "eGL_Jd-nmWNT"
      },
      "outputs": [],
      "source": [
        "!pip install spacy==3.3 &> /dev/null"
      ]
    },
    {
      "cell_type": "code",
      "source": [
        "import spacy\n",
        "from spacy.matcher import Matcher \n",
        "from spacy.tokens import Span\n",
        "import json\n",
        "import re"
      ],
      "metadata": {
        "id": "Ls5L5B3Tm3wc"
      },
      "execution_count": 11,
      "outputs": []
    },
    {
      "cell_type": "code",
      "source": [
        "##Creating Patterns for labeling\n",
        "from spacy.lang.en import English\n",
        "\n",
        "nlp = English()\n",
        "ruler = nlp.add_pipe(\"entity_ruler\")  ##requires spacy 3\n",
        "patterns = [{\"label\": \"ASSESSMENT\", \"pattern\": [{\"LOWER\": \"negative\"}]},\n",
        "            {\"label\": \"ASSESSMENT\", \"pattern\": [{\"LOWER\": \"positive\"}]},\n",
        "            {\"label\": \"ASSESSMENT\", \"pattern\":[{\"LOWER\": \"margins\"}]},\n",
        "            {\"label\": \"ASSESSMENT\", \"pattern\":[{\"LOWER\": \"recurrence\"}]},\n",
        "            {\"label\": \"ASSESSMENT\", \"pattern\":[{\"LOWER\": \"pd-l1\"}]},\n",
        "            {\"label\": \"ASSESSMENT\", \"pattern\":[{\"LOWER\": \"stable\"}]},\n",
        "            {\"label\": \"EVALUATION\", \"pattern\": [{\"LOWER\": \"ct\"}]},\n",
        "            {\"label\": \"EVALUATION\", \"pattern\":[{\"LOWER\": \"pet\"}]},\n",
        "            {\"label\": \"EVALUATION\", \"pattern\":[{\"LOWER\":\"pulmonary function tests(pfts)\"}]},\n",
        "            {\"label\": \"EVALUATION\", \"pattern\":[{\"LOWER\": \"bronchoscopy\"}]},\n",
        "            {\"label\": \"EVALUATION\", \"pattern\":[{\"LOWER\": \"mri\"}]},\n",
        "            {\"label\": \"EVALUATION\", \"pattern\":[{\"LOWER\": \"pathology\"}]},\n",
        "            {\"label\": \"EVALUATION\", \"pattern\":[{\"LOWER\": \"mediastinoscopy\"}]},\n",
        "            {\"label\": \"EVALUATION\", \"pattern\":[{\"LOWER\": \"thoracoscopy\"}]},\n",
        "            {\"label\": \"EVALUATION\", \"pattern\":[{\"LOWER\": \"biopsy\"}]},\n",
        "            {\"label\": \"EVALUATION\", \"pattern\":[{\"LOWER\": \"mediastinotomy\"}]},\n",
        "            {\"label\": \"OBSERVATION\", \"pattern\": [{\"LOWER\": \"finding\"}]},\n",
        "            {\"label\": \"OBSERVATION\", \"pattern\":[{\"LOWER\": \"lesion\"}]},\n",
        "            {\"label\": \"OBSERVATION\", \"pattern\":[{\"LOWER\": \"symptomatic\"}]},\n",
        "            {\"label\": \"OBSERVATION\", \"pattern\":[{\"LOWER\": \"asymptomatic\"}]},\n",
        "            {\"label\": \"FOLLOW-UP\", \"pattern\":[{\"LOWER\": \"follow-up\"}]},\n",
        "            {\"label\": \"FOLLOW-UP\", \"pattern\":[{\"LOWER\": \"mo\"}]},\n",
        "            {\"label\": \"RECOMMENDATION\", \"pattern\": [{\"LOWER\": \"consider\"}]},\n",
        "            {\"label\": \"TREATMENT\", \"pattern\": [{\"LOWER\": \"resection\"}]},\n",
        "            {\"label\": \"TREATMENT\", \"pattern\":[{\"LOWER\": \"dissection\"}]},\n",
        "            {\"label\": \"TREATMENT\", \"pattern\":[{\"LOWER\": \"chemoradiation\"}]},\n",
        "            {\"label\": \"TREATMENT\", \"pattern\":[{\"LOWER\": \"reresection\"}]},\n",
        "            {\"label\": \"TREATMENT\", \"pattern\":[{\"LOWER\": \"rt\"}]},\n",
        "            {\"label\": \"TREATMENT\", \"pattern\":[{\"LOWER\": \"sampling\"}]},\n",
        "            {\"label\": \"TREATMENT\", \"pattern\":[{\"LOWER\": \"chemotherapy\"}]},\n",
        "            {\"label\": \"TREATMENT\", \"pattern\":[{\"LOWER\": \"endobronchial obstruction\"}]},\n",
        "            {\"label\": \"TREATMENT\", \"pattern\":[{\"LOWER\": \"superior vena cava (svc) obstruction\"}]},\n",
        "            {\"label\": \"TREATMENT\", \"pattern\":[{\"LOWER\": \"laser\"}]},\n",
        "            {\"label\": \"TREATMENT\", \"pattern\":[{\"LOWER\": \"brachytherapy\"}]},\n",
        "            {\"label\": \"TREATMENT\", \"pattern\":[{\"LOWER\": \"embolization\"}]},\n",
        "            {\"label\": \"TREATMENT\", \"pattern\":[{\"LOWER\": \"orthopedic\"}]},\n",
        "            {\"label\": \"TREATMENT\", \"pattern\":[{\"LOWER\": \"bisphosphonate\"}]},\n",
        "            {\"label\": \"TREATMENT\", \"pattern\":[{\"LOWER\": \"sabr\"}]}]\n",
        "ruler.add_patterns(patterns)"
      ],
      "metadata": {
        "id": "_60oBH_6nMLP"
      },
      "execution_count": 12,
      "outputs": []
    },
    {
      "cell_type": "code",
      "source": [
        "## READING JSON FILES (Parser Output of footnotes marked automatically)\n",
        "file = open('NCCN_NSCLGraph_21_23.json')\n",
        "F_markedjsld_21_23 = json.load(file)"
      ],
      "metadata": {
        "id": "kHEKgEZNnEUi"
      },
      "execution_count": 19,
      "outputs": []
    },
    {
      "cell_type": "code",
      "source": [
        "##READING MEDACY LABELS FILE\n",
        "with open(\"page21_23_medaCy_only_labeled_nodes.json\", \"r\") as read_file:\n",
        "    nodeid_medaCylabel_js = json.load(read_file)"
      ],
      "metadata": {
        "id": "Lf7Gsp9dpj0v"
      },
      "execution_count": 20,
      "outputs": []
    },
    {
      "cell_type": "code",
      "source": [
        "##COMBINING SPACY AND MEDACY LABELS AND CREATING JSON OUTPUT\n",
        "nodes_medCy=list(nodeid_medaCylabel_js.keys())\n",
        "nodeid_spaCymedCylabel_dic={}\n",
        "A=[]  #Label set of an individual node\n",
        "\n",
        "for node in F_markedjsld_21_23['@graph']:\n",
        "  \n",
        "  node_id = str(node['@id'])\n",
        "  nodeid_spaCymedCylabel_dic[node_id]=[]\n",
        "  \n",
        "  for x in range(len(nodes_medCy)):\n",
        "    if (node_id == nodes_medCy[x]) :   \n",
        "      nodeid_spaCymedCylabel_dic[node_id].append(nodeid_medaCylabel_js[nodes_medCy[x]]) \n",
        "   \n",
        "  if node['@type'] != \"nccn:Footnote\":\n",
        "    old_str =  node['nccn:content']\n",
        "    F_removed_str = re.sub('\\{[^\\{]+\\}', '', old_str)\n",
        "    doc = nlp(F_removed_str)\n",
        "    for ent in doc.ents:\n",
        "      A.append(ent.label_)\n",
        "    set_a2=set(A)\n",
        "    A=list(set_a2)\n",
        "    \n",
        "      \n",
        "    for m in range(len(A)):\n",
        "      nodeid_spaCymedCylabel_dic[node_id].append(A[m])\n",
        "\n",
        "       \n",
        "    A.clear()\n",
        "  nodeid_spaCymedCylabel_dic[node_id]=list(set(nodeid_spaCymedCylabel_dic[node_id]))             \n",
        "  \n",
        "#print(output_label_dic)  "
      ],
      "metadata": {
        "id": "7uQKl-FJrOlT"
      },
      "execution_count": 15,
      "outputs": []
    },
    {
      "cell_type": "code",
      "source": [
        "nodes_spaCy_medCy=list(nodeid_spaCymedCylabel_dic.keys())\n",
        "for i in F_markedjsld_21_23['@graph']:\n",
        "  for x in range(len(nodes_spaCy_medCy)):\n",
        "    if ((nodes_spaCy_medCy[x])== str(i['@id'])):\n",
        "      for a in range(len(nodeid_spaCymedCylabel_dic[nodes_spaCy_medCy[x]])):\n",
        "        i['@type'].append(\"nccn:\"+nodeid_spaCymedCylabel_dic[nodes_spaCy_medCy[x]][a])"
      ],
      "metadata": {
        "id": "E9EP_b86oor2"
      },
      "execution_count": 16,
      "outputs": []
    },
    {
      "cell_type": "code",
      "source": [
        "print(F_markedjsld_21_23)"
      ],
      "metadata": {
        "colab": {
          "base_uri": "https://localhost:8080/"
        },
        "id": "VXpJVZTQyvR2",
        "outputId": "952ff0e6-cb97-45f9-a8fd-1b3aea8c2115"
      },
      "execution_count": 17,
      "outputs": [
        {
          "output_type": "stream",
          "name": "stdout",
          "text": [
            "{'@context': {'nccn': 'http://nccn-guideline.org/nsclc#', 'xsd': 'http://www.w3.org/2001/XMLSchema#', 'nccn:next': {'@type': '@id'}, 'nccn:prev': {'@type': '@id'}, 'nccn:contains': {'@type': '@id'}, 'nccn:parent': {'@type': '@id'}, 'nccn:reference': {'@type': '@id'}}, '@graph': [{'@id': 'http://nccn-guideline.org/nsclc/0', 'nccn:page-key': 'NSCL-2', 'nccn:page-no': 21, '@type': ['nccn:CLINICAL ASSESSMENT'], 'nccn:content': 'Stage IA (peripheral T1abc, N0)', 'nccn:next': ['http://nccn-guideline.org/nsclc/1']}, {'@id': 'http://nccn-guideline.org/nsclc/1', 'nccn:page-key': 'NSCL-2', 'nccn:page-no': 21, '@type': ['nccn:PRETREATMENT EVALUATION{g}'], 'nccn:content': '', 'nccn:prev': ['http://nccn-guideline.org/nsclc/0'], 'nccn:next': ['http://nccn-guideline.org/nsclc/2', 'http://nccn-guideline.org/nsclc/4'], 'nccn:contains': ['http://nccn-guideline.org/nsclc/11', 'http://nccn-guideline.org/nsclc/12', 'http://nccn-guideline.org/nsclc/13', 'http://nccn-guideline.org/nsclc/14']}, {'@id': 'http://nccn-guideline.org/nsclc/2', 'nccn:page-key': 'NSCL-2', 'nccn:page-no': 21, '@type': ['nccn:ASSESSMENT'], 'nccn:content': 'Positive mediastinal nodes', 'nccn:prev': ['http://nccn-guideline.org/nsclc/1'], 'nccn:next': ['http://nccn-guideline.org/nsclc/3']}, {'@id': 'http://nccn-guideline.org/nsclc/3', 'nccn:page-key': 'NSCL-2', 'nccn:page-no': 21, '@type': ['nccn:INITIAL TREATMENT'], 'nccn:content': 'Stage IIIA/IIIB (NSCL-8) or Stage IIIB/IIIC (NSCL-12)', 'nccn:prev': ['http://nccn-guideline.org/nsclc/2']}, {'@id': 'http://nccn-guideline.org/nsclc/4', 'nccn:page-key': 'NSCL-2', 'nccn:page-no': 21, '@type': ['nccn:ASSESSMENT'], 'nccn:content': 'Negative mediastinal nodes', 'nccn:prev': ['http://nccn-guideline.org/nsclc/1'], 'nccn:next': ['http://nccn-guideline.org/nsclc/6', 'http://nccn-guideline.org/nsclc/5']}, {'@id': 'http://nccn-guideline.org/nsclc/5', 'nccn:page-key': 'NSCL-2', 'nccn:page-no': 21, '@type': [], 'nccn:content': 'Operable', 'nccn:prev': ['http://nccn-guideline.org/nsclc/4'], 'nccn:next': ['http://nccn-guideline.org/nsclc/7']}, {'@id': 'http://nccn-guideline.org/nsclc/6', 'nccn:page-key': 'NSCL-2', 'nccn:page-no': 21, '@type': [], 'nccn:content': 'Medically inoperable{k}', 'nccn:prev': ['http://nccn-guideline.org/nsclc/4'], 'nccn:next': ['http://nccn-guideline.org/nsclc/8'], 'nccn:reference': ['http://nccn-guideline.org/nsclc/k']}, {'@id': 'http://nccn-guideline.org/nsclc/7', 'nccn:page-key': 'NSCL-2', 'nccn:page-no': 21, '@type': ['nccn:INITIAL TREATMENT', 'nccn:TREATMENT'], 'nccn:content': 'Surgical exploration and resection{k}+ mediastinal lymph node dissection or systematic lymph node sampling', 'nccn:prev': ['http://nccn-guideline.org/nsclc/5'], 'nccn:next': ['http://nccn-guideline.org/nsclc/9'], 'nccn:reference': ['http://nccn-guideline.org/nsclc/k']}, {'@id': 'http://nccn-guideline.org/nsclc/8', 'nccn:page-key': 'NSCL-2', 'nccn:page-no': 21, '@type': ['nccn:INITIAL TREATMENT', 'nccn:TREATMENT'], 'nccn:content': 'Definitive RT, preferably  stereotactic ablative radiotherapy (SABR){l,m,n} ', 'nccn:prev': ['http://nccn-guideline.org/nsclc/6'], 'nccn:next': ['http://nccn-guideline.org/nsclc/10'], 'nccn:reference': ['http://nccn-guideline.org/nsclc/l', 'http://nccn-guideline.org/nsclc/m', 'http://nccn-guideline.org/nsclc/n']}, {'@id': 'http://nccn-guideline.org/nsclc/9', 'nccn:page-key': 'NSCL-2', 'nccn:page-no': 21, '@type': [], 'nccn:content': 'Adjuvant Treatment (NSCL-4)', 'nccn:prev': ['http://nccn-guideline.org/nsclc/7'], 'nccn:next': ['http://nccn-guideline.org/nsclc/37', 'http://nccn-guideline.org/nsclc/42', 'http://nccn-guideline.org/nsclc/43', 'http://nccn-guideline.org/nsclc/44', 'http://nccn-guideline.org/nsclc/61']}, {'@id': 'http://nccn-guideline.org/nsclc/10', 'nccn:page-key': 'NSCL-2', 'nccn:page-no': 21, '@type': [], 'nccn:content': 'Surveillance (NSCL-16)', 'nccn:prev': ['http://nccn-guideline.org/nsclc/8']}, {'@id': 'http://nccn-guideline.org/nsclc/11', 'nccn:page-key': 'NSCL-2', 'nccn:page-no': 21, '@type': ['nccn:PRETREATMENT EVALUATION{g}'], 'nccn:content': '• Pulmonary function tests (PFTs) (if not previously done)', 'nccn:parent': 'http://nccn-guideline.org/nsclc/1'}, {'@id': 'http://nccn-guideline.org/nsclc/12', 'nccn:page-key': 'NSCL-2', 'nccn:page-no': 21, '@type': ['nccn:PRETREATMENT EVALUATION{g}', 'nccn:EVALUATION'], 'nccn:content': '• Bronchoscopy (intraoperative preferred)', 'nccn:parent': 'http://nccn-guideline.org/nsclc/1'}, {'@id': 'http://nccn-guideline.org/nsclc/13', 'nccn:page-key': 'NSCL-2', 'nccn:page-no': 21, '@type': ['nccn:PRETREATMENT EVALUATION{g}', 'nccn:RECOMMENDATION'], 'nccn:content': '• Consider pathologic mediastinal lymph node evaluation{h,i}', 'nccn:parent': 'http://nccn-guideline.org/nsclc/1', 'nccn:reference': ['http://nccn-guideline.org/nsclc/h', 'http://nccn-guideline.org/nsclc/i']}, {'@id': 'http://nccn-guideline.org/nsclc/14', 'nccn:page-key': 'NSCL-2', 'nccn:page-no': 21, '@type': ['nccn:PRETREATMENT EVALUATION{g}', 'nccn:EVALUATION'], 'nccn:content': '• FDG PET/CT scan{j} (if not previously done)', 'nccn:parent': 'http://nccn-guideline.org/nsclc/1', 'nccn:reference': ['http://nccn-guideline.org/nsclc/j']}, {'@id': 'http://nccn-guideline.org/nsclc/15', 'nccn:page-key': 'NSCL-3', 'nccn:page-no': 22, '@type': ['nccn:CLINICAL ASSESSMENT'], 'nccn:content': 'Stage IB (peripheral T2a, N0) Stage I (central T1abc–T2a, N0)Stage II (T1abc–2ab, N1; T2b, N0)Stage IIB (T3, N0){e}Stage IIIA (T3, N1)', 'nccn:next': ['http://nccn-guideline.org/nsclc/16'], 'nccn:reference': ['http://nccn-guideline.org/nsclc/e']}, {'@id': 'http://nccn-guideline.org/nsclc/16', 'nccn:page-key': 'NSCL-3', 'nccn:page-no': 22, '@type': ['nccn:PRETREATMENT EVALUATION{g}'], 'nccn:content': '', 'nccn:prev': ['http://nccn-guideline.org/nsclc/15'], 'nccn:next': ['http://nccn-guideline.org/nsclc/18', 'http://nccn-guideline.org/nsclc/17'], 'nccn:contains': ['http://nccn-guideline.org/nsclc/17', 'http://nccn-guideline.org/nsclc/18', 'http://nccn-guideline.org/nsclc/19', 'http://nccn-guideline.org/nsclc/20', 'http://nccn-guideline.org/nsclc/21']}, {'@id': 'http://nccn-guideline.org/nsclc/17', 'nccn:page-key': 'NSCL-3', 'nccn:page-no': 22, '@type': ['nccn:PRETREATMENT EVALUATION{g}', 'nccn:ASSESSMENT'], 'nccn:content': 'Negative mediastinal nodes', 'nccn:prev': ['http://nccn-guideline.org/nsclc/16'], 'nccn:next': ['http://nccn-guideline.org/nsclc/20', 'http://nccn-guideline.org/nsclc/19']}, {'@id': 'http://nccn-guideline.org/nsclc/18', 'nccn:page-key': 'NSCL-3', 'nccn:page-no': 22, '@type': ['nccn:PRETREATMENT EVALUATION{g}', 'nccn:ASSESSMENT'], 'nccn:content': 'Positive mediastinal nodes', 'nccn:prev': ['http://nccn-guideline.org/nsclc/16'], 'nccn:next': ['http://nccn-guideline.org/nsclc/29']}, {'@id': 'http://nccn-guideline.org/nsclc/19', 'nccn:page-key': 'NSCL-3', 'nccn:page-no': 22, '@type': [], 'nccn:content': 'Operable', 'nccn:prev': ['http://nccn-guideline.org/nsclc/17'], 'nccn:next': ['http://nccn-guideline.org/nsclc/21']}, {'@id': 'http://nccn-guideline.org/nsclc/20', 'nccn:page-key': 'NSCL-3', 'nccn:page-no': 22, '@type': [], 'nccn:content': 'Medically inoperable{k}', 'nccn:prev': ['http://nccn-guideline.org/nsclc/17'], 'nccn:next': ['http://nccn-guideline.org/nsclc/24', 'http://nccn-guideline.org/nsclc/23'], 'nccn:reference': ['http://nccn-guideline.org/nsclc/k']}, {'@id': 'http://nccn-guideline.org/nsclc/21', 'nccn:page-key': 'NSCL-3', 'nccn:page-no': 22, '@type': ['nccn:INITIAL TREATMENT', 'nccn:TREATMENT'], 'nccn:content': 'Surgical exploration and resection{k,p,q} + mediastinal lymph node dissection or systematic lymph node sampling', 'nccn:prev': ['http://nccn-guideline.org/nsclc/19'], 'nccn:next': ['http://nccn-guideline.org/nsclc/22'], 'nccn:reference': ['http://nccn-guideline.org/nsclc/p', 'http://nccn-guideline.org/nsclc/q', 'http://nccn-guideline.org/nsclc/k']}, {'@id': 'http://nccn-guideline.org/nsclc/22', 'nccn:page-key': 'NSCL-3', 'nccn:page-no': 22, '@type': [], 'nccn:content': 'Adjuvant Treatment (NSCL-4)', 'nccn:prev': ['http://nccn-guideline.org/nsclc/21'], 'nccn:next': ['http://nccn-guideline.org/nsclc/37', 'http://nccn-guideline.org/nsclc/42', 'http://nccn-guideline.org/nsclc/43', 'http://nccn-guideline.org/nsclc/44', 'http://nccn-guideline.org/nsclc/61']}, {'@id': 'http://nccn-guideline.org/nsclc/23', 'nccn:page-key': 'NSCL-3', 'nccn:page-no': 22, '@type': ['nccn:INITIAL TREATMENT'], 'nccn:content': 'N0', 'nccn:prev': ['http://nccn-guideline.org/nsclc/20'], 'nccn:next': ['http://nccn-guideline.org/nsclc/25']}, {'@id': 'http://nccn-guideline.org/nsclc/24', 'nccn:page-key': 'NSCL-3', 'nccn:page-no': 22, '@type': ['nccn:INITIAL TREATMENT'], 'nccn:content': 'N1', 'nccn:prev': ['http://nccn-guideline.org/nsclc/20'], 'nccn:next': ['http://nccn-guideline.org/nsclc/26']}, {'@id': 'http://nccn-guideline.org/nsclc/25', 'nccn:page-key': 'NSCL-3', 'nccn:page-no': 22, '@type': ['nccn:INITIAL TREATMENT', 'nccn:TREATMENT'], 'nccn:content': 'Definitive RT, preferably  SABR{l,n}', 'nccn:prev': ['http://nccn-guideline.org/nsclc/23'], 'nccn:next': ['http://nccn-guideline.org/nsclc/27'], 'nccn:reference': ['http://nccn-guideline.org/nsclc/l', 'http://nccn-guideline.org/nsclc/n']}, {'@id': 'http://nccn-guideline.org/nsclc/26', 'nccn:page-key': 'NSCL-3', 'nccn:page-no': 22, '@type': ['nccn:INITIAL TREATMENT', 'nccn:TREATMENT'], 'nccn:content': 'Definitive chemoradiation{l,t}', 'nccn:prev': ['http://nccn-guideline.org/nsclc/24'], 'nccn:next': ['http://nccn-guideline.org/nsclc/28'], 'nccn:reference': ['http://nccn-guideline.org/nsclc/t', 'http://nccn-guideline.org/nsclc/l']}, {'@id': 'http://nccn-guideline.org/nsclc/27', 'nccn:page-key': 'NSCL-3', 'nccn:page-no': 22, '@type': ['nccn:TREATMENT', 'nccn:RECOMMENDATION'], 'nccn:content': 'Consider adjuvant chemotherapy{r} for high-risk stages  IB–IIB{s}', 'nccn:prev': ['http://nccn-guideline.org/nsclc/25'], 'nccn:next': ['http://nccn-guideline.org/nsclc/30'], 'nccn:reference': ['http://nccn-guideline.org/nsclc/r', 'http://nccn-guideline.org/nsclc/s']}, {'@id': 'http://nccn-guideline.org/nsclc/28', 'nccn:page-key': 'NSCL-3', 'nccn:page-no': 22, '@type': ['nccn:TREATMENT'], 'nccn:content': 'Durvalumab{t,u}(category 1  stage III; category 2A stage II)', 'nccn:prev': ['http://nccn-guideline.org/nsclc/26'], 'nccn:next': ['http://nccn-guideline.org/nsclc/31'], 'nccn:reference': ['http://nccn-guideline.org/nsclc/t', 'http://nccn-guideline.org/nsclc/u']}, {'@id': 'http://nccn-guideline.org/nsclc/29', 'nccn:page-key': 'NSCL-3', 'nccn:page-no': 22, '@type': ['nccn:INITIAL TREATMENT'], 'nccn:content': 'Stage IIIA/IIIB (NSCL-8) or Stage IIIB/IIIC (NSCL-12)', 'nccn:prev': ['http://nccn-guideline.org/nsclc/18']}, {'@id': 'http://nccn-guideline.org/nsclc/30', 'nccn:page-key': 'NSCL-3', 'nccn:page-no': 22, '@type': [], 'nccn:content': 'Surveillance (NSCL-16)', 'nccn:prev': ['http://nccn-guideline.org/nsclc/27']}, {'@id': 'http://nccn-guideline.org/nsclc/31', 'nccn:page-key': 'NSCL-3', 'nccn:page-no': 22, '@type': [], 'nccn:content': 'Surveillance (NSCL-16)', 'nccn:prev': ['http://nccn-guideline.org/nsclc/28']}, {'@id': 'http://nccn-guideline.org/nsclc/32', 'nccn:page-key': 'NSCL-3', 'nccn:page-no': 22, '@type': ['nccn:PRETREATMENT EVALUATION{g}'], 'nccn:content': '• PFTs (if not previously done)', 'nccn:parent': 'http://nccn-guideline.org/nsclc/1'}, {'@id': 'http://nccn-guideline.org/nsclc/33', 'nccn:page-key': 'NSCL-3', 'nccn:page-no': 22, '@type': ['nccn:PRETREATMENT EVALUATION{g}', 'nccn:EVALUATION'], 'nccn:content': '• Bronchoscopy', 'nccn:parent': 'http://nccn-guideline.org/nsclc/1'}, {'@id': 'http://nccn-guideline.org/nsclc/34', 'nccn:page-key': 'NSCL-3', 'nccn:page-no': 22, '@type': ['nccn:PRETREATMENT EVALUATION{g}'], 'nccn:content': '• Pathologic mediastinal lymph node evaluation{h}  ', 'nccn:parent': 'http://nccn-guideline.org/nsclc/1', 'nccn:reference': ['http://nccn-guideline.org/nsclc/h']}, {'@id': 'http://nccn-guideline.org/nsclc/35', 'nccn:page-key': 'NSCL-3', 'nccn:page-no': 22, '@type': ['nccn:PRETREATMENT EVALUATION{g}', 'nccn:EVALUATION'], 'nccn:content': '• FDG PET/CT scan{j} (if not previously done)', 'nccn:parent': 'http://nccn-guideline.org/nsclc/1', 'nccn:reference': ['http://nccn-guideline.org/nsclc/j']}, {'@id': 'http://nccn-guideline.org/nsclc/36', 'nccn:page-key': 'NSCL-3', 'nccn:page-no': 22, '@type': ['nccn:PRETREATMENT EVALUATION{g}', 'nccn:EVALUATION'], 'nccn:content': '• Brain MRI with contrast{o} (Stage II, IIIA) (Stage IB [optional])', 'nccn:parent': 'http://nccn-guideline.org/nsclc/1', 'nccn:reference': ['http://nccn-guideline.org/nsclc/o']}, {'@id': 'http://nccn-guideline.org/nsclc/37', 'nccn:page-key': 'NSCL-4', 'nccn:page-no': 23, '@type': ['nccn:FINDINGS AT SURGERY'], 'nccn:content': 'Stage IA (T1abc, N0)', 'nccn:prev': ['http://nccn-guideline.org/nsclc/9', 'http://nccn-guideline.org/nsclc/22'], 'nccn:next': ['http://nccn-guideline.org/nsclc/39', 'http://nccn-guideline.org/nsclc/38']}, {'@id': 'http://nccn-guideline.org/nsclc/38', 'nccn:page-key': 'NSCL-4', 'nccn:page-no': 23, '@type': ['nccn:ASSESSMENT'], 'nccn:content': 'Margins negative (R0){v}', 'nccn:prev': ['http://nccn-guideline.org/nsclc/37'], 'nccn:next': ['http://nccn-guideline.org/nsclc/40'], 'nccn:reference': ['http://nccn-guideline.org/nsclc/v']}, {'@id': 'http://nccn-guideline.org/nsclc/39', 'nccn:page-key': 'NSCL-4', 'nccn:page-no': 23, '@type': ['nccn:ASSESSMENT'], 'nccn:content': 'Margins positive (R1, R2){v}', 'nccn:prev': ['http://nccn-guideline.org/nsclc/37'], 'nccn:next': ['http://nccn-guideline.org/nsclc/40'], 'nccn:reference': ['http://nccn-guideline.org/nsclc/v']}, {'@id': 'http://nccn-guideline.org/nsclc/40', 'nccn:page-key': 'NSCL-4', 'nccn:page-no': 23, '@type': ['nccn:ADJUVANT TREATMENT'], 'nccn:content': 'ObserveReresection (preferred) orRT{l} (category 2B)', 'nccn:prev': ['http://nccn-guideline.org/nsclc/38', 'http://nccn-guideline.org/nsclc/39'], 'nccn:next': ['http://nccn-guideline.org/nsclc/55', 'http://nccn-guideline.org/nsclc/55'], 'nccn:reference': ['http://nccn-guideline.org/nsclc/l']}, {'@id': 'http://nccn-guideline.org/nsclc/41', 'nccn:page-key': 'NSCL-4', 'nccn:page-no': 23, '@type': [], 'nccn:content': 'Surveillance (NSCL-16)', 'nccn:prev': ['http://nccn-guideline.org/nsclc/64']}, {'@id': 'http://nccn-guideline.org/nsclc/42', 'nccn:page-key': 'NSCL-4', 'nccn:page-no': 23, '@type': ['nccn:FINDINGS AT SURGERY'], 'nccn:content': 'Stage IB (T2a, N0)', 'nccn:prev': ['http://nccn-guideline.org/nsclc/9', 'http://nccn-guideline.org/nsclc/22'], 'nccn:next': ['http://nccn-guideline.org/nsclc/46', 'http://nccn-guideline.org/nsclc/45']}, {'@id': 'http://nccn-guideline.org/nsclc/43', 'nccn:page-key': 'NSCL-4', 'nccn:page-no': 23, '@type': ['nccn:FINDINGS AT SURGERY'], 'nccn:content': 'Stage IIB (T1abc–T2a, N1)Stage IIB (T3, N0; T2b, N1)', 'nccn:prev': ['http://nccn-guideline.org/nsclc/9', 'http://nccn-guideline.org/nsclc/22'], 'nccn:next': ['http://nccn-guideline.org/nsclc/48', 'http://nccn-guideline.org/nsclc/47']}, {'@id': 'http://nccn-guideline.org/nsclc/44', 'nccn:page-key': 'NSCL-4', 'nccn:page-no': 23, '@type': ['nccn:FINDINGS AT SURGERY'], 'nccn:content': 'Stage IIIA (T1–2, N2; T3, N1)Stage IIIB (T3, N2)', 'nccn:prev': ['http://nccn-guideline.org/nsclc/9', 'http://nccn-guideline.org/nsclc/22'], 'nccn:next': ['http://nccn-guideline.org/nsclc/52', 'http://nccn-guideline.org/nsclc/51']}, {'@id': 'http://nccn-guideline.org/nsclc/45', 'nccn:page-key': 'NSCL-4', 'nccn:page-no': 23, '@type': ['nccn:ASSESSMENT'], 'nccn:content': 'Margins negative (R0){v}', 'nccn:prev': ['http://nccn-guideline.org/nsclc/42'], 'nccn:reference': ['http://nccn-guideline.org/nsclc/v']}, {'@id': 'http://nccn-guideline.org/nsclc/46', 'nccn:page-key': 'NSCL-4', 'nccn:page-no': 23, '@type': ['nccn:ASSESSMENT'], 'nccn:content': 'Margins positive (R1, R2){v}', 'nccn:prev': ['http://nccn-guideline.org/nsclc/42'], 'nccn:next': ['http://nccn-guideline.org/nsclc/56'], 'nccn:reference': ['http://nccn-guideline.org/nsclc/v']}, {'@id': 'http://nccn-guideline.org/nsclc/47', 'nccn:page-key': 'NSCL-4', 'nccn:page-no': 23, '@type': ['nccn:ASSESSMENT'], 'nccn:content': 'Margins negative (R0){v}', 'nccn:prev': ['http://nccn-guideline.org/nsclc/43'], 'nccn:next': ['http://nccn-guideline.org/nsclc/57'], 'nccn:reference': ['http://nccn-guideline.org/nsclc/v']}, {'@id': 'http://nccn-guideline.org/nsclc/48', 'nccn:page-key': 'NSCL-4', 'nccn:page-no': 23, '@type': ['nccn:ASSESSMENT'], 'nccn:content': 'Margins positive', 'nccn:prev': ['http://nccn-guideline.org/nsclc/43'], 'nccn:next': ['http://nccn-guideline.org/nsclc/50', 'http://nccn-guideline.org/nsclc/49']}, {'@id': 'http://nccn-guideline.org/nsclc/49', 'nccn:page-key': 'NSCL-4', 'nccn:page-no': 23, '@type': [], 'nccn:content': 'R1{v}', 'nccn:prev': ['http://nccn-guideline.org/nsclc/48'], 'nccn:next': ['http://nccn-guideline.org/nsclc/57'], 'nccn:reference': ['http://nccn-guideline.org/nsclc/v']}, {'@id': 'http://nccn-guideline.org/nsclc/50', 'nccn:page-key': 'NSCL-4', 'nccn:page-no': 23, '@type': [], 'nccn:content': 'R2{v}', 'nccn:prev': ['http://nccn-guideline.org/nsclc/48'], 'nccn:next': ['http://nccn-guideline.org/nsclc/57'], 'nccn:reference': ['http://nccn-guideline.org/nsclc/v']}, {'@id': 'http://nccn-guideline.org/nsclc/51', 'nccn:page-key': 'NSCL-4', 'nccn:page-no': 23, '@type': ['nccn:ASSESSMENT'], 'nccn:content': 'Margins negative (R0){v}', 'nccn:prev': ['http://nccn-guideline.org/nsclc/44'], 'nccn:next': ['http://nccn-guideline.org/nsclc/58'], 'nccn:reference': ['http://nccn-guideline.org/nsclc/v']}, {'@id': 'http://nccn-guideline.org/nsclc/52', 'nccn:page-key': 'NSCL-4', 'nccn:page-no': 23, '@type': ['nccn:ASSESSMENT'], 'nccn:content': 'Margins positive', 'nccn:prev': ['http://nccn-guideline.org/nsclc/44'], 'nccn:next': ['http://nccn-guideline.org/nsclc/54', 'http://nccn-guideline.org/nsclc/53']}, {'@id': 'http://nccn-guideline.org/nsclc/53', 'nccn:page-key': 'NSCL-4', 'nccn:page-no': 23, '@type': [], 'nccn:content': 'R1{v}', 'nccn:prev': ['http://nccn-guideline.org/nsclc/52'], 'nccn:next': ['http://nccn-guideline.org/nsclc/59'], 'nccn:reference': ['http://nccn-guideline.org/nsclc/v']}, {'@id': 'http://nccn-guideline.org/nsclc/54', 'nccn:page-key': 'NSCL-4', 'nccn:page-no': 23, '@type': [], 'nccn:content': 'R2{v}', 'nccn:prev': ['http://nccn-guideline.org/nsclc/52'], 'nccn:next': ['http://nccn-guideline.org/nsclc/60'], 'nccn:reference': ['http://nccn-guideline.org/nsclc/v']}, {'@id': 'http://nccn-guideline.org/nsclc/55', 'nccn:page-key': 'NSCL-4', 'nccn:page-no': 23, '@type': ['nccn:ADJUVANT TREATMENT', 'nccn:TREATMENT'], 'nccn:content': 'Observe or  Chemotherapy{r} for high-risk patients{s} and osimertinib{r} (EGFR exon 19 deletion or L858R){w} ', 'nccn:prev': ['http://nccn-guideline.org/nsclc/40', 'http://nccn-guideline.org/nsclc/40', 'http://nccn-guideline.org/nsclc/55', 'http://nccn-guideline.org/nsclc/56'], 'nccn:next': ['http://nccn-guideline.org/nsclc/55'], 'nccn:reference': ['http://nccn-guideline.org/nsclc/r', 'http://nccn-guideline.org/nsclc/s', 'http://nccn-guideline.org/nsclc/w']}, {'@id': 'http://nccn-guideline.org/nsclc/56', 'nccn:page-key': 'NSCL-4', 'nccn:page-no': 23, '@type': ['nccn:ADJUVANT TREATMENT', 'nccn:TREATMENT'], 'nccn:content': 'Reresection (preferred) ± chemotherapy{r}orRT{l}', 'nccn:prev': ['http://nccn-guideline.org/nsclc/46'], 'nccn:next': ['http://nccn-guideline.org/nsclc/55'], 'nccn:reference': ['http://nccn-guideline.org/nsclc/r', 'http://nccn-guideline.org/nsclc/l']}, {'@id': 'http://nccn-guideline.org/nsclc/57', 'nccn:page-key': 'NSCL-4', 'nccn:page-no': 23, '@type': ['nccn:ADJUVANT TREATMENT', 'nccn:TREATMENT'], 'nccn:content': 'Chemotherapy{r}(category 1) and atezolizumab{r,y}or osimertinib{r} (EGFR exon 19 deletion or L858R){w}Reresection + chemotherapy{r}or Chemoradiation{l} (sequential{r} or concurrent{t})Reresection + chemotherapy{r}or Concurrent chemoradiation{l,t}', 'nccn:prev': ['http://nccn-guideline.org/nsclc/47', 'http://nccn-guideline.org/nsclc/49', 'http://nccn-guideline.org/nsclc/50', 'http://nccn-guideline.org/nsclc/57', 'http://nccn-guideline.org/nsclc/57', 'http://nccn-guideline.org/nsclc/57'], 'nccn:next': ['http://nccn-guideline.org/nsclc/57', 'http://nccn-guideline.org/nsclc/57', 'http://nccn-guideline.org/nsclc/57'], 'nccn:reference': ['http://nccn-guideline.org/nsclc/r', 'http://nccn-guideline.org/nsclc/t', 'http://nccn-guideline.org/nsclc/w', 'http://nccn-guideline.org/nsclc/y', 'http://nccn-guideline.org/nsclc/l']}, {'@id': 'http://nccn-guideline.org/nsclc/58', 'nccn:page-key': 'NSCL-4', 'nccn:page-no': 23, '@type': ['nccn:ADJUVANT TREATMENT', 'nccn:TREATMENT', 'nccn:RECOMMENDATION'], 'nccn:content': 'Chemotherapy{r} (category 1) and atezolizumab{r,y}or osimertinib{r} (EGFR exon 19 deletion or L858R){w} orSequential chemotherapy{r} and consider RT{l}', 'nccn:prev': ['http://nccn-guideline.org/nsclc/51', 'http://nccn-guideline.org/nsclc/59', 'http://nccn-guideline.org/nsclc/60'], 'nccn:reference': ['http://nccn-guideline.org/nsclc/r', 'http://nccn-guideline.org/nsclc/w', 'http://nccn-guideline.org/nsclc/y', 'http://nccn-guideline.org/nsclc/l']}, {'@id': 'http://nccn-guideline.org/nsclc/59', 'nccn:page-key': 'NSCL-4', 'nccn:page-no': 23, '@type': ['nccn:ADJUVANT TREATMENT', 'nccn:TREATMENT'], 'nccn:content': 'Chemoradiation{l} (sequential{r} or concurrent{t})', 'nccn:prev': ['http://nccn-guideline.org/nsclc/53'], 'nccn:next': ['http://nccn-guideline.org/nsclc/58'], 'nccn:reference': ['http://nccn-guideline.org/nsclc/r', 'http://nccn-guideline.org/nsclc/t', 'http://nccn-guideline.org/nsclc/l']}, {'@id': 'http://nccn-guideline.org/nsclc/60', 'nccn:page-key': 'NSCL-4', 'nccn:page-no': 23, '@type': ['nccn:ADJUVANT TREATMENT', 'nccn:TREATMENT'], 'nccn:content': 'Concurrent chemoradiation{l,t} ', 'nccn:prev': ['http://nccn-guideline.org/nsclc/54'], 'nccn:next': ['http://nccn-guideline.org/nsclc/58'], 'nccn:reference': ['http://nccn-guideline.org/nsclc/t', 'http://nccn-guideline.org/nsclc/l']}, {'@id': 'http://nccn-guideline.org/nsclc/61', 'nccn:page-key': 'NSCL-4', 'nccn:page-no': 23, '@type': ['nccn:FINDINGS AT SURGERY'], 'nccn:content': 'Stage IIA (T2b, N0)', 'nccn:prev': ['http://nccn-guideline.org/nsclc/9', 'http://nccn-guideline.org/nsclc/22'], 'nccn:next': ['http://nccn-guideline.org/nsclc/63', 'http://nccn-guideline.org/nsclc/62']}, {'@id': 'http://nccn-guideline.org/nsclc/62', 'nccn:page-key': 'NSCL-4', 'nccn:page-no': 23, '@type': ['nccn:ASSESSMENT'], 'nccn:content': 'Margins negative (R0){v}', 'nccn:prev': ['http://nccn-guideline.org/nsclc/61'], 'nccn:reference': ['http://nccn-guideline.org/nsclc/v']}, {'@id': 'http://nccn-guideline.org/nsclc/63', 'nccn:page-key': 'NSCL-4', 'nccn:page-no': 23, '@type': ['nccn:ASSESSMENT'], 'nccn:content': 'Margins positive (R1, R2){v}', 'nccn:prev': ['http://nccn-guideline.org/nsclc/61'], 'nccn:next': ['http://nccn-guideline.org/nsclc/64'], 'nccn:reference': ['http://nccn-guideline.org/nsclc/v']}, {'@id': 'http://nccn-guideline.org/nsclc/64', 'nccn:page-key': 'NSCL-4', 'nccn:page-no': 23, '@type': ['nccn:ADJUVANT TREATMENT', 'nccn:TREATMENT'], 'nccn:content': 'Observe or  Chemotherapy{r} for high-risk patients{s} and atezolizumab{r,y}or osimertinib{r} (EGFR exon 19 deletion or L858R){w}Reresection (preferred) ± chemotherapy{r,y}orRT{l} ± chemotherapy{r}', 'nccn:prev': ['http://nccn-guideline.org/nsclc/64', 'http://nccn-guideline.org/nsclc/63', 'http://nccn-guideline.org/nsclc/64'], 'nccn:next': ['http://nccn-guideline.org/nsclc/41', 'http://nccn-guideline.org/nsclc/64', 'http://nccn-guideline.org/nsclc/64'], 'nccn:reference': ['http://nccn-guideline.org/nsclc/r', 'http://nccn-guideline.org/nsclc/s', 'http://nccn-guideline.org/nsclc/w', 'http://nccn-guideline.org/nsclc/y', 'http://nccn-guideline.org/nsclc/l']}, {'@id': 'http://nccn-guideline.org/nsclc/e', '@type': 'nccn:Footnote', 'nccn:content': 'T3, N0 related to size or satellite nodules.'}, {'@id': 'http://nccn-guideline.org/nsclc/g', '@type': 'nccn:Footnote', 'nccn:content': 'Testing is not listed in order of priority and is dependent on clinical circumstances, institutional processes, and judicious use of resources.'}, {'@id': 'http://nccn-guideline.org/nsclc/h', '@type': 'nccn:Footnote', 'nccn:content': 'Methods for evaluation include mediastinoscopy, mediastinotomy, EBUS, EUS, and CT-guided biopsy. An EBUS-TBNA negative for malignancy in a clinically (PET and/or CT) positive mediastinum should undergo subsequent mediastinoscopy prior to surgical resection.'}, {'@id': 'http://nccn-guideline.org/nsclc/i', '@type': 'nccn:Footnote', 'nccn:content': 'There is low likelihood of positive mediastinal lymph nodes when these nodes are CT and PET negative in solid tumors <1 cm and purely non-solid tumors <3 cm. Thus, pre-resection pathologic mediastinal evaluation is optional in these settings.'}, {'@id': 'http://nccn-guideline.org/nsclc/j', '@type': 'nccn:Footnote', 'nccn:content': 'PET/CT performed skull base to knees or whole body. Positive PET/CT scan findings for distant disease need pathologic or other radiologic confirmation. If PET/CT scan is positive in the mediastinum, lymph node status needs pathologic confirmation.'}, {'@id': 'http://nccn-guideline.org/nsclc/k', '@type': 'nccn:Footnote', 'nccn:content': 'Principles of Surgical Therapy (NSCL-B).'}, {'@id': 'http://nccn-guideline.org/nsclc/l', '@type': 'nccn:Footnote', 'nccn:content': 'Principles of Radiation Therapy (NSCL-C).'}, {'@id': 'http://nccn-guideline.org/nsclc/m', '@type': 'nccn:Footnote', 'nccn:content': 'Image-guided thermal ablation (IGTA) therapy (eg, cryotherapy, microwave, radiofrequency) may be an option for select patients not receiving SABR or definitive RT. Principles of Image-Guided Thermal Ablation Therapy (NSCL-D).'}, {'@id': 'http://nccn-guideline.org/nsclc/n', '@type': 'nccn:Footnote', 'nccn:content': 'If empiric therapy is contemplated without tissue confirmation, multidisciplinary evaluation that at least includes interventional radiology, thoracic surgery, and interventional pulmonology is required to determine the safest and most efficient approach for biopsy, or to provide consensus that a biopsy is too risky or difficult and that the patient can proceed with therapy without tissue confirmation. (IJsseldijk MA, et al. J Thorac Oncol 2019;14:583-595.)'}, {'@id': 'http://nccn-guideline.org/nsclc/o', '@type': 'nccn:Footnote', 'nccn:content': 'If MRI is not possible, CT of head with contrast.'}, {'@id': 'http://nccn-guideline.org/nsclc/p', '@type': 'nccn:Footnote', 'nccn:content': 'After surgical evaluation, patients likely to receive adjuvant chemotherapy may be treated with induction chemotherapy as an alternative.'}, {'@id': 'http://nccn-guideline.org/nsclc/q', '@type': 'nccn:Footnote', 'nccn:content': 'Test for EGFR mutation (stages IB–IIIA) and PD-L1 status (stages II–IIIA) on surgical tissue or biopsy. Principles of Molecular and Biomarker Analysis (NSCL-H).'}, {'@id': 'http://nccn-guideline.org/nsclc/r', '@type': 'nccn:Footnote', 'nccn:content': 'Systemic Therapy Regimens for Neoadjuvant and Adjuvant Therapy (NSCL-E).'}, {'@id': 'http://nccn-guideline.org/nsclc/s', '@type': 'nccn:Footnote', 'nccn:content': 'Examples of high-risk factors may include poorly differentiated tumors (including lung neuroendocrine tumors [excluding well-differentiated neuroendocrine tumors]), vascular invasion, wedge resection, tumors >4 cm, visceral pleural involvement, and unknown lymph node status (Nx). These factors independently may not be an indication and may be considered when determining treatment with adjuvant chemotherapy. '}, {'@id': 'http://nccn-guideline.org/nsclc/t', '@type': 'nccn:Footnote', 'nccn:content': 'Concurrent Chemoradiation Regimens (NSCL-F).'}, {'@id': 'http://nccn-guideline.org/nsclc/u', '@type': 'nccn:Footnote', 'nccn:content': 'Durvalumab is not recommended for patients following definitive surgical resection.'}]}\n"
          ]
        }
      ]
    },
    {
      "cell_type": "code",
      "source": [
        "from google.colab import files\n",
        "\n",
        "file_name = \"NCCN_NSCLGraph_21_23_labeled.json\"\n",
        "with open(file_name, \"w\") as fid: \n",
        "     json.dump(F_markedjsld_21_23, fid)\n",
        "# files.download('NCCN_NSCLGraph_21_23_labeled.json')     "
      ],
      "metadata": {
        "id": "q1PrLrdAotLC"
      },
      "execution_count": 18,
      "outputs": []
    }
  ]
}