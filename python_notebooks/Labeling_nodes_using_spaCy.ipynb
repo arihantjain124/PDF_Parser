{
  "nbformat": 4,
  "nbformat_minor": 0,
  "metadata": {
    "colab": {
      "name": "Labeling_nodes_using_spaCy.ipynb",
      "provenance": []
    },
    "kernelspec": {
      "name": "python3",
      "display_name": "Python 3"
    },
    "language_info": {
      "name": "python"
    }
  },
  "cells": [
    {
      "cell_type": "markdown",
      "source": [
        "#**To Label nodes in Parser Output Json-LD**\n",
        "###**Input:**\n",
        "1.   Parser Output JSLD (Footnotes referenced) *{Example: NCCN_NSCLGraph_21_23.json}*\n",
        "2.   MedCy label JSON file (containing nodeid and label) *{Example: page21_23_medaCy_only_labeled_nodes.json}*\n",
        "\n",
        "###**Output:**\n",
        "1. JSON LD File same as input containing the labels from spaCy and medCy *{Example: NCCN_NSCLGraph_21_23_labeled.json}*"
      ],
      "metadata": {
        "id": "gq0s7IA56EL5"
      }
    },
    {
      "cell_type": "code",
      "execution_count": 21,
      "metadata": {
        "id": "eGL_Jd-nmWNT"
      },
      "outputs": [],
      "source": [
        "!pip install spacy==3.3 &> /dev/null"
      ]
    },
    {
      "cell_type": "code",
      "source": [
        "import spacy\n",
        "from spacy.matcher import Matcher \n",
        "from spacy.tokens import Span\n",
        "import json\n",
        "import re"
      ],
      "metadata": {
        "id": "Ls5L5B3Tm3wc"
      },
      "execution_count": 22,
      "outputs": []
    },
    {
      "cell_type": "code",
      "source": [
        "##Creating Patterns for labeling\n",
        "from spacy.lang.en import English\n",
        "\n",
        "nlp = English()\n",
        "ruler = nlp.add_pipe(\"entity_ruler\")  ##requires spacy 3\n",
        "patterns = [{\"label\": \"ASSESSMENT\", \"pattern\": [{\"LOWER\": \"negative\"}]},\n",
        "            {\"label\": \"ASSESSMENT\", \"pattern\": [{\"LOWER\": \"positive\"}]},\n",
        "            {\"label\": \"ASSESSMENT\", \"pattern\":[{\"LOWER\": \"margins\"}]},\n",
        "            {\"label\": \"ASSESSMENT\", \"pattern\":[{\"LOWER\": \"recurrence\"}]},\n",
        "            {\"label\": \"ASSESSMENT\", \"pattern\":[{\"LOWER\": \"pd-l1\"}]},\n",
        "            {\"label\": \"ASSESSMENT\", \"pattern\":[{\"LOWER\": \"stable\"}]},\n",
        "            {\"label\": \"EVALUATION\", \"pattern\": [{\"LOWER\": \"ct\"}]},\n",
        "            {\"label\": \"EVALUATION\", \"pattern\":[{\"LOWER\": \"pet\"}]},\n",
        "            {\"label\": \"EVALUATION\", \"pattern\":[{\"LOWER\":\"pulmonary function tests(pfts)\"}]},\n",
        "            {\"label\": \"EVALUATION\", \"pattern\":[{\"LOWER\": \"bronchoscopy\"}]},\n",
        "            {\"label\": \"EVALUATION\", \"pattern\":[{\"LOWER\": \"mri\"}]},\n",
        "            {\"label\": \"EVALUATION\", \"pattern\":[{\"LOWER\": \"pathology\"}]},\n",
        "            {\"label\": \"EVALUATION\", \"pattern\":[{\"LOWER\": \"mediastinoscopy\"}]},\n",
        "            {\"label\": \"EVALUATION\", \"pattern\":[{\"LOWER\": \"thoracoscopy\"}]},\n",
        "            {\"label\": \"EVALUATION\", \"pattern\":[{\"LOWER\": \"biopsy\"}]},\n",
        "            {\"label\": \"EVALUATION\", \"pattern\":[{\"LOWER\": \"mediastinotomy\"}]},\n",
        "            {\"label\": \"OBSERVATION\", \"pattern\": [{\"LOWER\": \"finding\"}]},\n",
        "            {\"label\": \"OBSERVATION\", \"pattern\":[{\"LOWER\": \"lesion\"}]},\n",
        "            {\"label\": \"OBSERVATION\", \"pattern\":[{\"LOWER\": \"symptomatic\"}]},\n",
        "            {\"label\": \"OBSERVATION\", \"pattern\":[{\"LOWER\": \"asymptomatic\"}]},\n",
        "            {\"label\": \"FOLLOW-UP\", \"pattern\":[{\"LOWER\": \"follow-up\"}]},\n",
        "            {\"label\": \"FOLLOW-UP\", \"pattern\":[{\"LOWER\": \"mo\"}]},\n",
        "            {\"label\": \"RECOMMENDATION\", \"pattern\": [{\"LOWER\": \"consider\"}]},\n",
        "            {\"label\": \"TREATMENT\", \"pattern\": [{\"LOWER\": \"resection\"}]},\n",
        "            {\"label\": \"TREATMENT\", \"pattern\":[{\"LOWER\": \"dissection\"}]},\n",
        "            {\"label\": \"TREATMENT\", \"pattern\":[{\"LOWER\": \"chemoradiation\"}]},\n",
        "            {\"label\": \"TREATMENT\", \"pattern\":[{\"LOWER\": \"reresection\"}]},\n",
        "            {\"label\": \"TREATMENT\", \"pattern\":[{\"LOWER\": \"rt\"}]},\n",
        "            {\"label\": \"TREATMENT\", \"pattern\":[{\"LOWER\": \"sampling\"}]},\n",
        "            {\"label\": \"TREATMENT\", \"pattern\":[{\"LOWER\": \"chemotherapy\"}]},\n",
        "            {\"label\": \"TREATMENT\", \"pattern\":[{\"LOWER\": \"endobronchial obstruction\"}]},\n",
        "            {\"label\": \"TREATMENT\", \"pattern\":[{\"LOWER\": \"superior vena cava (svc) obstruction\"}]},\n",
        "            {\"label\": \"TREATMENT\", \"pattern\":[{\"LOWER\": \"laser\"}]},\n",
        "            {\"label\": \"TREATMENT\", \"pattern\":[{\"LOWER\": \"brachytherapy\"}]},\n",
        "            {\"label\": \"TREATMENT\", \"pattern\":[{\"LOWER\": \"embolization\"}]},\n",
        "            {\"label\": \"TREATMENT\", \"pattern\":[{\"LOWER\": \"orthopedic\"}]},\n",
        "            {\"label\": \"TREATMENT\", \"pattern\":[{\"LOWER\": \"bisphosphonate\"}]},\n",
        "            {\"label\": \"TREATMENT\", \"pattern\":[{\"LOWER\": \"sabr\"}]}]\n",
        "ruler.add_patterns(patterns)"
      ],
      "metadata": {
        "id": "_60oBH_6nMLP"
      },
      "execution_count": 23,
      "outputs": []
    },
    {
      "cell_type": "code",
      "source": [
        "## READING JSON FILES (Parser Output of footnotes marked automatically)\n",
        "file = open('NCCN_NSCLGraph_21_23.json')\n",
        "F_markedjsld_21_23 = json.load(file)"
      ],
      "metadata": {
        "id": "kHEKgEZNnEUi"
      },
      "execution_count": 24,
      "outputs": []
    },
    {
      "cell_type": "code",
      "source": [
        "##READING MEDACY LABELS FILE\n",
        "with open(\"page21_23_medaCy_only_labeled_nodes.json\", \"r\") as read_file:\n",
        "    nodeid_medaCylabel_js = json.load(read_file)"
      ],
      "metadata": {
        "id": "Lf7Gsp9dpj0v"
      },
      "execution_count": 25,
      "outputs": []
    },
    {
      "cell_type": "code",
      "source": [
        "##COMBINING SPACY AND MEDACY LABELS AND CREATING JSON OUTPUT\n",
        "nodes_medCy=list(nodeid_medaCylabel_js.keys())\n",
        "nodeid_spaCymedCylabel_dic={}\n",
        "A=[]  #Label set of an individual node\n",
        "\n",
        "for node in F_markedjsld_21_23['@graph']:\n",
        "  \n",
        "  node_id = str(node['@id'])\n",
        "  nodeid_spaCymedCylabel_dic[node_id]=[]\n",
        "  \n",
        "  for x in range(len(nodes_medCy)):\n",
        "    if (node_id == nodes_medCy[x]) :   \n",
        "      nodeid_spaCymedCylabel_dic[node_id].append(nodeid_medaCylabel_js[nodes_medCy[x]]) \n",
        "   \n",
        "  if node['@type'] != \"nccn:Footnote\":\n",
        "    old_str =  node['nccn:content']\n",
        "    F_removed_str = re.sub('\\{[^\\{]+\\}', '', old_str)\n",
        "    doc = nlp(F_removed_str)\n",
        "    for ent in doc.ents:\n",
        "      A.append(ent.label_)\n",
        "    set_a2=set(A)\n",
        "    A=list(set_a2)\n",
        "    \n",
        "      \n",
        "    for m in range(len(A)):\n",
        "      nodeid_spaCymedCylabel_dic[node_id].append(A[m])\n",
        "\n",
        "       \n",
        "    A.clear()\n",
        "  nodeid_spaCymedCylabel_dic[node_id]=list(set(nodeid_spaCymedCylabel_dic[node_id]))             \n",
        "  \n",
        "#print(output_label_dic)  "
      ],
      "metadata": {
        "id": "7uQKl-FJrOlT"
      },
      "execution_count": 26,
      "outputs": []
    },
    {
      "cell_type": "code",
      "source": [
        "nodes_spaCy_medCy=list(nodeid_spaCymedCylabel_dic.keys())\n",
        "for i in F_markedjsld_21_23['@graph']:\n",
        "  for x in range(len(nodes_spaCy_medCy)):\n",
        "    if ((nodes_spaCy_medCy[x])== str(i['@id'])):\n",
        "      for a in range(len(nodeid_spaCymedCylabel_dic[nodes_spaCy_medCy[x]])):\n",
        "        i['@type'].append(\"nccn:\"+nodeid_spaCymedCylabel_dic[nodes_spaCy_medCy[x]][a])"
      ],
      "metadata": {
        "id": "E9EP_b86oor2"
      },
      "execution_count": 27,
      "outputs": []
    },
    {
      "cell_type": "code",
      "source": [
        "from google.colab import files\n",
        "\n",
        "file_name = \"NCCN_NSCLGraph_21_23_labeled.json\"\n",
        "with open(file_name, \"w\") as fid: \n",
        "     json.dump(F_markedjsld_21_23, fid)\n",
        "# files.download('NCCN_NSCLGraph_21_23_labeled.json')     "
      ],
      "metadata": {
        "id": "q1PrLrdAotLC"
      },
      "execution_count": 28,
      "outputs": []
    }
  ]
}